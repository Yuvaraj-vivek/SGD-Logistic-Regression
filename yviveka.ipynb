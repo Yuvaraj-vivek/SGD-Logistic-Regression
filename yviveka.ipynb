{
 "cells": [
  {
   "cell_type": "code",
   "execution_count": 2,
   "metadata": {},
   "outputs": [],
   "source": [
    "from random import seed\n",
    "from csv import reader\n",
    "from random import randrange\n",
    "from math import exp\n",
    "errors=[]"
   ]
  },
  {
   "cell_type": "code",
   "execution_count": 13,
   "metadata": {},
   "outputs": [],
   "source": [
    "def fileLoad(filename):\n",
    "    d = [[i for i in line.strip().split(';')] for line in open(filename).readlines()]\n",
    "    return d"
   ]
  },
  {
   "cell_type": "code",
   "execution_count": 4,
   "metadata": {},
   "outputs": [],
   "source": [
    "def calcAccuracy(actual, predicted):\n",
    "    correct = 0\n",
    "    for i in range(len(actual)):\n",
    "        if actual[i] == predicted[i]:\n",
    "            correct += 1\n",
    "    return correct / float(len(actual)) * 100.0"
   ]
  },
  {
   "cell_type": "code",
   "execution_count": 5,
   "metadata": {},
   "outputs": [],
   "source": [
    "def normalizeData(data, minmax):\n",
    "    for row in data:\n",
    "        for i in range(len(row)):\n",
    "            row[i] = (row[i] - minmax[i][0]) / (minmax[i][1] - minmax[i][0])"
   ]
  },
  {
   "cell_type": "code",
   "execution_count": 6,
   "metadata": {},
   "outputs": [],
   "source": [
    "def dataset_minmax(dataset):\n",
    "    minmax = list()\n",
    "    for i in range(len(dataset[0])):\n",
    "        col_values = [row[i] for row in dataset]\n",
    "        value_min = min(col_values)\n",
    "        value_max = max(col_values)\n",
    "        minmax.append([value_min, value_max])\n",
    "    return minmax"
   ]
  },
  {
   "cell_type": "code",
   "execution_count": 17,
   "metadata": {},
   "outputs": [],
   "source": [
    "def str_column_to_float(dataset, column):\n",
    "    for row in dataset:\n",
    "        row[column] = float(row[column].strip())"
   ]
  },
  {
   "cell_type": "code",
   "execution_count": 7,
   "metadata": {},
   "outputs": [],
   "source": [
    "def predict(row, coefficients):\n",
    "    yhat = coefficients[0]\n",
    "    for i in range(len(row) - 1):\n",
    "        yhat += coefficients[i + 1] * row[i]\n",
    "    return 1.0 / (1.0 + exp(-yhat))"
   ]
  },
  {
   "cell_type": "code",
   "execution_count": 35,
   "metadata": {},
   "outputs": [],
   "source": [
    "def sgdCoeff(train, learnRate, epochRate):\n",
    "    global errors \n",
    "    errors=[]\n",
    "    coeff = [0.0 for i in range(len(train[0]))]\n",
    "    for epoch in range(epochRate):\n",
    "        sumError = 0\n",
    "        \n",
    "        for row in train:\n",
    "            yhat = predict(row, coeff)\n",
    "            error = row[-1] - yhat\n",
    "            sumError += error**2\n",
    "            coeff[0] = coeff[0] + learnRate * yhat * error * (1-yhat)\n",
    "            for i in range(len(row) - 1):\n",
    "                coeff[i + 1] = coeff[i + 1] + learnRate * yhat * error * (1-yhat) * row[i]\n",
    "        errors.append(sumError)\n",
    "    return coeff"
   ]
  },
  {
   "cell_type": "code",
   "execution_count": 9,
   "metadata": {},
   "outputs": [],
   "source": [
    "def evalMethod(data, numFolds, *args):\n",
    "    folds = list()\n",
    "    scores = list()\n",
    "    copyData = list(data)\n",
    "    foldSize = int(len(data) / numFolds)\n",
    "    for i in range(numFolds):\n",
    "        fold = list()\n",
    "        while len(fold) < foldSize:\n",
    "            index = randrange(len(copyData))\n",
    "            fold.append(copyData.pop(index))\n",
    "        folds.append(fold)\n",
    "    for fold in folds:\n",
    "        trainingSet = list(folds)\n",
    "        trainingSet.remove(fold)\n",
    "        trainingSet = sum(trainingSet, [])\n",
    "        testingSet = list()\n",
    "        for row in fold:\n",
    "            copyRow = list(row)\n",
    "            testingSet.append(copyRow)\n",
    "            copyRow[-1] = None\n",
    "        predicted = lr(trainingSet, testingSet, *args)\n",
    "        actual = [row[-1] for row in fold]\n",
    "        accuracy = calcAccuracy(actual, predicted)\n",
    "        scores.append(accuracy)\n",
    "    return scores"
   ]
  },
  {
   "cell_type": "code",
   "execution_count": 10,
   "metadata": {},
   "outputs": [],
   "source": [
    "def lr(trainData, testData, learnRate, epochRate):\n",
    "    predictions = list()\n",
    "    coeff = sgdCoeff(trainData, learnRate, epochRate)\n",
    "    for row in testData:\n",
    "        yhat = predict(row, coeff)\n",
    "        yhat = round(yhat)\n",
    "        predictions.append(yhat)\n",
    "    return (predictions)"
   ]
  },
  {
   "cell_type": "code",
   "execution_count": 56,
   "metadata": {},
   "outputs": [],
   "source": [
    "def driver(epochRate):    \n",
    "    seed(100)\n",
    "    dataset = fileLoad('winequality-red.csv')\n",
    "    for i in range(len(dataset[0])):\n",
    "        str_column_to_float(dataset, i)\n",
    "    normalizeData(dataset, dataset_minmax(dataset))\n",
    "    \n",
    "    epochRate = int(epochRate)\n",
    "    numFolds = 5\n",
    "    learnRate = 0.01\n",
    "\n",
    "    scores = evalMethod(dataset, numFolds, learnRate,\n",
    "                                epochRate)\n",
    "    print('RMSE: %.3f%%' % (sum(scores) / float(len(scores))))"
   ]
  },
  {
   "cell_type": "code",
   "execution_count": 58,
   "metadata": {},
   "outputs": [
    {
     "name": "stdout",
     "output_type": "stream",
     "text": [
      "RMSE: 1.693%\n"
     ]
    }
   ],
   "source": [
    "driver(100)"
   ]
  },
  {
   "cell_type": "code",
   "execution_count": 59,
   "metadata": {},
   "outputs": [],
   "source": [
    "import unittest\n",
    "class TestNotebook(unittest.TestCase):\n",
    "    def test_acc(self):\n",
    "          seed(123)\n",
    "          dataset = [[2.7810836,2.550537003,0],\n",
    "                    [1.38807019,1.850220317,0],\n",
    "                    [1.465489372,2.362125076,0],\n",
    "                    [3.396561688,4.400293529,0],\n",
    "                    [7.627531214,2.759262235,1],        \n",
    "                    [3.06407232,3.005305973,0],\n",
    "                    [5.332441248,2.088626775,1],\n",
    "                    [6.922596716,1.77106367,1],\n",
    "                    [8.675418651,-0.242068655,1],\n",
    "                    [7.673756466,3.508563011,1]];\n",
    "          normalizeData(dataset, dataset_minmax(dataset))\n",
    "          scores = evalMethod(dataset,10,0.1,10)\n",
    "          acc10 = (sum(scores) / float(len(scores)))\n",
    "          scores = evalMethod(dataset,10,0.1,50)\n",
    "          acc50 = (sum(scores) / float(len(scores)))\n",
    "          scores = evalMethod(dataset,10,0.1,100)\n",
    "          acc100 = (sum(scores) / float(len(scores)))\n",
    "          self.assertGreaterEqual(acc50, acc10)\n",
    "          self.assertGreaterEqual(acc100, acc50)\n",
    "          self.assertGreaterEqual(acc100, acc10)\n",
    "\n",
    "    def test_err(self):\n",
    "        global errors\n",
    "        for i in range(0,len(errors)-1):\n",
    "            self.assertGreaterEqual(errors[i],errors[i+1])"
   ]
  },
  {
   "cell_type": "code",
   "execution_count": 60,
   "metadata": {},
   "outputs": [
    {
     "name": "stderr",
     "output_type": "stream",
     "text": [
      "test_acc (__main__.TestNotebook) ... ok\n",
      "test_err (__main__.TestNotebook) ... ok\n",
      "\n",
      "----------------------------------------------------------------------\n",
      "Ran 2 tests in 0.037s\n",
      "\n",
      "OK\n"
     ]
    }
   ],
   "source": [
    "if __name__ == '__main__':\n",
    "    unittest.main(argv=[''],verbosity=2, exit=False)"
   ]
  },
  {
   "cell_type": "code",
   "execution_count": null,
   "metadata": {},
   "outputs": [],
   "source": []
  }
 ],
 "metadata": {
  "kernelspec": {
   "display_name": "Python 3",
   "language": "python",
   "name": "python3"
  },
  "language_info": {
   "codemirror_mode": {
    "name": "ipython",
    "version": 3
   },
   "file_extension": ".py",
   "mimetype": "text/x-python",
   "name": "python",
   "nbconvert_exporter": "python",
   "pygments_lexer": "ipython3",
   "version": "3.7.1"
  }
 },
 "nbformat": 4,
 "nbformat_minor": 2
}
